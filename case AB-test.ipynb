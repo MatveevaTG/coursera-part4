{
 "cells": [
  {
   "cell_type": "markdown",
   "metadata": {},
   "source": [
    "# Анализ результатов АБ-теста"
   ]
  },
  {
   "cell_type": "code",
   "execution_count": 1,
   "metadata": {},
   "outputs": [],
   "source": [
    "import numpy as np\n",
    "import pandas as pd"
   ]
  },
  {
   "cell_type": "markdown",
   "metadata": {},
   "source": [
    "В данном задании вам нужно будет проанализировать АБ тест, проведенный на реальных пользователях Яндекса\n",
    "подтвердить или опровергнуть наличие изменений в пользовательском поведении между контрольной (control) и тестовой (exp) группами\n",
    "определить характер этих изменений и практическую значимость вводимого изменения\n",
    "понять, какая из пользовательских групп более всего проигрывает / выигрывает от тестируемого изменения (локализовать изменение)\n",
    "Описание данных:\n",
    "\n",
    "- userID: уникальный идентификатор пользователя\n",
    "\n",
    "- browser: браузер, который использовал userID\n",
    "\n",
    "- slot: в каком статусе пользователь участвовал в исследовании (exp = видел измененную страницу, control = видел неизменную страницу)\n",
    "\n",
    "- n_clicks: количество кликов, которые пользоваль совершил за n_queries\n",
    "\n",
    "- n_queries: количество запросов, который совершил userID, пользуясь браузером browser\n",
    "\n",
    "- n_nonclk_queries: количество запросов пользователя, в которых им не было совершено ни одного клика\n",
    "\n",
    "Обращаем ваше внимание, что не все люди используют только один браузер, поэтому в столбце userID есть повторяющиеся идентификаторы. В предлагаемых данных уникальным является сочетание userID и browser.\n",
    "\n",
    "Основная метрика, на которой мы сосредоточимся в этой работе, — это количество пользовательских кликов на web-странице в зависимости от тестируемого изменения этой страницы.\n",
    "\n",
    "Посчитайте, насколько в группе exp больше пользовательских кликов по сравнению с группой control в процентах от числа кликов в контрольной группе.\n",
    "\n",
    "Полученный процент округлите до третьего знака после точки."
   ]
  },
  {
   "cell_type": "code",
   "execution_count": 2,
   "metadata": {},
   "outputs": [
    {
     "data": {
      "text/html": [
       "<div>\n",
       "<style scoped>\n",
       "    .dataframe tbody tr th:only-of-type {\n",
       "        vertical-align: middle;\n",
       "    }\n",
       "\n",
       "    .dataframe tbody tr th {\n",
       "        vertical-align: top;\n",
       "    }\n",
       "\n",
       "    .dataframe thead th {\n",
       "        text-align: right;\n",
       "    }\n",
       "</style>\n",
       "<table border=\"1\" class=\"dataframe\">\n",
       "  <thead>\n",
       "    <tr style=\"text-align: right;\">\n",
       "      <th></th>\n",
       "      <th>userID</th>\n",
       "      <th>browser</th>\n",
       "      <th>slot</th>\n",
       "      <th>n_clicks</th>\n",
       "      <th>n_queries</th>\n",
       "      <th>n_nonclk_queries</th>\n",
       "    </tr>\n",
       "  </thead>\n",
       "  <tbody>\n",
       "    <tr>\n",
       "      <th>0</th>\n",
       "      <td>1</td>\n",
       "      <td>Browser #2</td>\n",
       "      <td>exp</td>\n",
       "      <td>23</td>\n",
       "      <td>32</td>\n",
       "      <td>19</td>\n",
       "    </tr>\n",
       "    <tr>\n",
       "      <th>1</th>\n",
       "      <td>3</td>\n",
       "      <td>Browser #4</td>\n",
       "      <td>exp</td>\n",
       "      <td>3</td>\n",
       "      <td>4</td>\n",
       "      <td>2</td>\n",
       "    </tr>\n",
       "    <tr>\n",
       "      <th>2</th>\n",
       "      <td>5</td>\n",
       "      <td>Browser #4</td>\n",
       "      <td>exp</td>\n",
       "      <td>29</td>\n",
       "      <td>35</td>\n",
       "      <td>16</td>\n",
       "    </tr>\n",
       "    <tr>\n",
       "      <th>3</th>\n",
       "      <td>6</td>\n",
       "      <td>Browser #4</td>\n",
       "      <td>control</td>\n",
       "      <td>12</td>\n",
       "      <td>6</td>\n",
       "      <td>0</td>\n",
       "    </tr>\n",
       "    <tr>\n",
       "      <th>4</th>\n",
       "      <td>7</td>\n",
       "      <td>Browser #4</td>\n",
       "      <td>exp</td>\n",
       "      <td>54</td>\n",
       "      <td>68</td>\n",
       "      <td>30</td>\n",
       "    </tr>\n",
       "  </tbody>\n",
       "</table>\n",
       "</div>"
      ],
      "text/plain": [
       "   userID     browser     slot  n_clicks  n_queries  n_nonclk_queries\n",
       "0       1  Browser #2      exp        23         32                19\n",
       "1       3  Browser #4      exp         3          4                 2\n",
       "2       5  Browser #4      exp        29         35                16\n",
       "3       6  Browser #4  control        12          6                 0\n",
       "4       7  Browser #4      exp        54         68                30"
      ]
     },
     "execution_count": 2,
     "metadata": {},
     "output_type": "execute_result"
    }
   ],
   "source": [
    "df = pd.read_csv(\"ab_browser_test.csv\")\n",
    "df.head()"
   ]
  },
  {
   "cell_type": "code",
   "execution_count": 3,
   "metadata": {},
   "outputs": [
    {
     "data": {
      "text/plain": [
       "1.614"
      ]
     },
     "execution_count": 3,
     "metadata": {},
     "output_type": "execute_result"
    }
   ],
   "source": [
    "click_exp = df[df.slot == 'exp'].n_clicks.sum()\n",
    "click_control = df[df.slot == 'control'].n_clicks.sum()\n",
    "round((click_exp/click_control - 1)*100, 3)"
   ]
  },
  {
   "cell_type": "markdown",
   "metadata": {},
   "source": [
    "Давайте попробуем посмотреть более внимательно на разницу между двумя группами (control и exp) относительно количества пользовательских кликов.\n",
    "\n",
    "Для этого постройте с помощью бутстрепа 95% доверительный интервал для средних значений и медиан количества кликов в каждой из двух групп. Отметьте все верные утверждения."
   ]
  },
  {
   "cell_type": "code",
   "execution_count": 13,
   "metadata": {},
   "outputs": [],
   "source": [
    "def get_bootstrap_samples_median(data, n_samples):\n",
    "    res = []\n",
    "    for i in range(n_samples):\n",
    "        indices = np.random.randint(0, len(data), len(data))\n",
    "        res.append(np.median(data[indices]))\n",
    "    print(\"we win!\")\n",
    "    return np.array(res)\n",
    "\n",
    "def get_bootstrap_samples_mean(data, n_samples):\n",
    "    res = []\n",
    "    for i in range(n_samples):\n",
    "        indices = np.random.randint(0, len(data), len(data))\n",
    "        res.append(np.mean(data[indices]))\n",
    "    print(\"we win!\")\n",
    "    return np.array(res)\n",
    "    \n",
    "def stat_intervals(stat, alpha):\n",
    "    boundaries = np.percentile(stat, [100 * alpha / 2., 100 * (1 - alpha / 2.)])\n",
    "    return boundaries"
   ]
  },
  {
   "cell_type": "code",
   "execution_count": 26,
   "metadata": {},
   "outputs": [],
   "source": [
    "df_exp = df[df.slot == 'exp'].n_clicks\n",
    "df_control = df[df.slot == 'control'].n_clicks"
   ]
  },
  {
   "cell_type": "code",
   "execution_count": 15,
   "metadata": {},
   "outputs": [
    {
     "name": "stdout",
     "output_type": "stream",
     "text": [
      "we win!\n",
      "we win!\n",
      "we win!\n",
      "we win!\n",
      "95% confidence interval for the CONTROL median - EXP median repair time: [-1. -1.]\n",
      "95% confidence interval for the CONTROL mean - EXP mean repair time: [-0.40543913 -0.19852156]\n"
     ]
    }
   ],
   "source": [
    "np.random.seed(0)\n",
    "\n",
    "control_exp_median_scores = get_bootstrap_samples_median(df_control.values, 500) \\\n",
    "                            - get_bootstrap_samples_median(df_exp.values, 500)\n",
    "control_exp_mean_scores = get_bootstrap_samples_mean(df_control.values, 500) \\\n",
    "                            - get_bootstrap_samples_mean(df_exp.values, 500)\n",
    "\n",
    "print(\"95% confidence interval for the CONTROL median - EXP median repair time:\",  stat_intervals(control_exp_median_scores, 0.05))\n",
    "print(\"95% confidence interval for the CONTROL mean - EXP mean repair time:\",  stat_intervals(control_exp_mean_scores, 0.05))"
   ]
  },
  {
   "cell_type": "markdown",
   "metadata": {},
   "source": [
    "t-критерий Стьюдента имеет множество достоинств, и потому его достаточно часто применяют в AB экспериментах. Иногда его применение может быть необоснованно из-за сильной скошенности распределения данных.\n",
    "\n",
    "Давайте постараемся понять, когда t-критерий можно применять и как это проверить на реальных данных.\n",
    "\n",
    "Для простоты рассмотрим одновыборочный t-критерий. Его статистика имеет вид $$\\frac{\\bar{X} - \\mu}{ \\sqrt {S^2 / n}} $$ то есть чтобы действительно предположения t-критерия выполнялись необходимо, чтобы:\n",
    "\n",
    "$\\bar{X}$— среднее значение в выборке — было распределено нормально N(μ,σ^2/n)\n",
    "\n",
    "$\\frac{n}{σ^2}S^2$ — несмещенная оценка дисперсии c масштабирующим коэффициентом — была распределена по хи-квадрат c n−1 степенями свободы $χ^2(n−1)$\n",
    "\n",
    "Простое доказательство необходимости и достаточности этого требования можно посмотреть в самом последнем абзаце этого вопроса. Усвоение этого доказательства не обязательно для выполнения задания.\n",
    "\n",
    "Оба этих предположения можно проверить с помощью бутстрепа. Ограничимся сейчас только контрольной группой, в которой распределение кликов будем называть данными в рамках данного вопроса.\n",
    "\n",
    "Поскольку мы не знаем истинного распределения генеральной совокупности, мы можем применить бутстреп, чтобы понять, как распределены среднее значение и выборочная дисперсия. Для этого\n",
    "\n",
    "- Получите из данных n_boot_samples псевдовыборок.\n",
    "- По каждой из этих выборок посчитайте среднее и сумму квадратов отклонения от выборочного среднего (control_boot_chi_squared)\n",
    "- Для получившегося вектора средних значений из n_boot_samples постройте q-q plot с помощью scipy.stats.probplot для нормального распределения\n",
    "- Для получившегося вектора сумм квадратов отклонения от выборочного среднего постройте qq-plot с помощью scipy.stats.probplot для хи-квадрат распределения"
   ]
  },
  {
   "cell_type": "code",
   "execution_count": 16,
   "metadata": {},
   "outputs": [],
   "source": [
    "def get_bootstrap_mean_and_var(data, n_samples):\n",
    "    mean = []\n",
    "    nvar = []\n",
    "    for i in range(n_samples):\n",
    "        indices = np.random.randint(0, len(data), len(data))\n",
    "        m = np.mean(data[indices])\n",
    "        mean.append(m)\n",
    "        nvar.append(np.sum((data[indices] - m)**2))\n",
    "    print(\"we win!\")\n",
    "    return (np.array(mean), np.array(nvar))"
   ]
  },
  {
   "cell_type": "code",
   "execution_count": 17,
   "metadata": {},
   "outputs": [
    {
     "name": "stdout",
     "output_type": "stream",
     "text": [
      "we win!\n"
     ]
    }
   ],
   "source": [
    "np.random.seed(0)\n",
    "control_mean, control_boot_chi_squared = get_bootstrap_mean_and_var(df_control.values, 500)"
   ]
  },
  {
   "cell_type": "code",
   "execution_count": 19,
   "metadata": {},
   "outputs": [
    {
     "data": {
      "text/plain": [
       "<function matplotlib.pyplot.show(*args, **kw)>"
      ]
     },
     "execution_count": 19,
     "metadata": {},
     "output_type": "execute_result"
    },
    {
     "data": {
      "image/png": "[encoded data removed]",
      "text/plain": [
       "<Figure size 432x288 with 1 Axes>"
      ]
     },
     "metadata": {
      "needs_background": "light"
     },
     "output_type": "display_data"
    }
   ],
   "source": [
    "from matplotlib import pylab as plt\n",
    "from scipy.stats import probplot\n",
    "\n",
    "res = probplot(control_mean, dist=\"norm\", plot=plt)\n",
    "plt.show"
   ]
  },
  {
   "cell_type": "code",
   "execution_count": 22,
   "metadata": {},
   "outputs": [
    {
     "name": "stdout",
     "output_type": "stream",
     "text": [
      "For mean R^2 = 0.9959537742082044\n"
     ]
    }
   ],
   "source": [
    "print(\"For mean R^2 =\", res[1][2]**2)"
   ]
  },
  {
   "cell_type": "code",
   "execution_count": 24,
   "metadata": {},
   "outputs": [
    {
     "data": {
      "text/plain": [
       "<function matplotlib.pyplot.show(*args, **kw)>"
      ]
     },
     "execution_count": 24,
     "metadata": {},
     "output_type": "execute_result"
    },
    {
     "data": {
      "image/png": "[encoded data removed]",
      "text/plain": [
       "<Figure size 432x288 with 1 Axes>"
      ]
     },
     "metadata": {
      "needs_background": "light"
     },
     "output_type": "display_data"
    }
   ],
   "source": [
    "n = len(df_control)\n",
    "res2 = probplot(control_boot_chi_squared, dist=\"chi2\", sparams=(n-1), plot=plt)\n",
    "plt.show"
   ]
  },
  {
   "cell_type": "code",
   "execution_count": 25,
   "metadata": {},
   "outputs": [
    {
     "name": "stdout",
     "output_type": "stream",
     "text": [
      "For n*variance R^2 = 0.9965174165449134\n"
     ]
    }
   ],
   "source": [
    "print(\"For n*variance R^2 =\", res2[1][2]**2)"
   ]
  },
  {
   "cell_type": "markdown",
   "metadata": {},
   "source": [
    "   Одним из возможных аналогов t-критерия, которым можно воспрользоваться, является тест Манна-Уитни. На достаточно обширном классе распределений он является асимптотически более эффективным, чем t-критерий, и при этом не требует параметрических предположений о характере распределения.\n",
    "\n",
    "   Разделите выборку на две части, соответствующие control и exp группам. Преобразуйте данные к виду, чтобы каждому пользователю соответствовало суммарное значение его кликов. С помощью критерия Манна-Уитни проверьте гипотезу о равенстве средних."
   ]
  },
  {
   "cell_type": "code",
   "execution_count": 29,
   "metadata": {},
   "outputs": [],
   "source": [
    "df_control = df[df.slot == 'control'].groupby(by = 'userID')['n_clicks'].sum()\n",
    "df_exp = df[df.slot == 'exp'].groupby(by = 'userID')['n_clicks'].sum()"
   ]
  },
  {
   "cell_type": "code",
   "execution_count": 32,
   "metadata": {},
   "outputs": [
    {
     "data": {
      "text/plain": [
       "MannwhitneyuResult(statistic=38901259929.0, pvalue=4.3471471887604393e-75)"
      ]
     },
     "execution_count": 32,
     "metadata": {},
     "output_type": "execute_result"
    }
   ],
   "source": [
    "from scipy.stats import mannwhitneyu\n",
    "\n",
    "mannwhitneyu(df_control, df_exp)\n",
    "# как мы видим, гипотеза о равенстве средних отвергается"
   ]
  },
  {
   "cell_type": "markdown",
   "metadata": {},
   "source": [
    "Проверьте, для какого из браузеров наиболее сильно выражено отличие между количеством кликов в контрольной и экспериментальной группах.\n",
    "\n",
    "Для этого примените для каждого из срезов (по каждому из уникальных значений столбца browser) критерий Манна-Уитни между control и exp группами и сделайте поправку Холма-Бонферрони на множественную проверку с α=0.05.\n",
    "\n",
    "Какое заключение можно сделать исходя из полученных результатов ?\n",
    "\n",
    "В качестве ответа введите количество незначимых изменений с точки зрения результатов, полученных после введения коррекции."
   ]
  },
  {
   "cell_type": "code",
   "execution_count": 41,
   "metadata": {},
   "outputs": [
    {
     "name": "stdout",
     "output_type": "stream",
     "text": [
      "p для Browser #2 = 0.0272438604197241\n",
      "p для Browser #14 = 0.0\n",
      "p для Browser #20 = 0.45366656388735377\n",
      "p для Browser #4 = 0.40760617658454984\n",
      "p для Browser #17 = 0.03740060143010802\n",
      "p для Browser #22 = 0.2574055152210032\n"
     ]
    }
   ],
   "source": [
    "p = []\n",
    "browsers = list(set(df.browser.values))\n",
    "l = len(browsers)\n",
    "for b in browsers:\n",
    "    df_control = df[(df.slot == 'control') & (df.browser == b)]['n_clicks']\n",
    "    df_exp = df[(df.slot == 'exp') & (df.browser == b)]['n_clicks']\n",
    "    p.append(mannwhitneyu(df_control, df_exp)[1])\n",
    "for i in range(l):\n",
    "    print('p для', browsers[i],'=', p[i])\n",
    "# отклоняем 3 гипотезы о равенстве средних"
   ]
  },
  {
   "cell_type": "code",
   "execution_count": 45,
   "metadata": {},
   "outputs": [
    {
     "name": "stdout",
     "output_type": "stream",
     "text": [
      "p_corrected для Browser #2 = 0.13621930209862051\n",
      "p_corrected для Browser #14 = 0.0\n",
      "p_corrected для Browser #20 = 0.8152123531690997\n",
      "p_corrected для Browser #4 = 0.8152123531690997\n",
      "p_corrected для Browser #17 = 0.14960240572043207\n",
      "p_corrected для Browser #22 = 0.7722165456630096\n"
     ]
    }
   ],
   "source": [
    "from statsmodels.sandbox.stats.multicomp import multipletests\n",
    "\n",
    "p_corrected = multipletests(p, alpha = 0.05, method = \"holm\")[1]\n",
    "for i in range(l):\n",
    "    print('p_corrected для', browsers[i],'=', p_corrected[i])\n",
    "# теперь отклоняем только 1"
   ]
  },
  {
   "cell_type": "markdown",
   "metadata": {},
   "source": [
    "Для каждого браузера в каждой из двух групп (control и exp) посчитайте долю запросов, в которых пользователь не кликнул ни разу. Это можно сделать, поделив сумму значений n_nonclk_queries на сумму значений n_queries. Умножив это значение на 100, получим процент некликнутых запросов, который можно легче проинтерпретировать.\n",
    "\n",
    "Сходятся ли результаты проведенного Вами анализа с показателем процента некликнутых запросов ? Отметьте все верные утверждения."
   ]
  },
  {
   "cell_type": "code",
   "execution_count": 47,
   "metadata": {},
   "outputs": [
    {
     "name": "stdout",
     "output_type": "stream",
     "text": [
      "Некликнутые запросы в control для Browser #2 =  45.96274717919465 % ; в exp =  44.982746948554706 %\n",
      "Некликнутые запросы в control для Browser #14 =  57.59041136008114 % ; в exp =  43.755617361273295 %\n",
      "Некликнутые запросы в control для Browser #20 =  40.540484743383296 % ; в exp =  38.97737648371716 %\n",
      "Некликнутые запросы в control для Browser #4 =  46.97092963514274 % ; в exp =  45.14294190358467 %\n",
      "Некликнутые запросы в control для Browser #17 =  36.29936674628208 % ; в exp =  36.93741284866483 %\n",
      "Некликнутые запросы в control для Browser #22 =  40.593976593513354 % ; в exp =  39.85394721969546 %\n"
     ]
    }
   ],
   "source": [
    "for b in browsers:\n",
    "    df_control = df[(df.slot == 'control') & (df.browser == b)]\n",
    "    df_exp = df[(df.slot == 'exp') & (df.browser == b)]\n",
    "    print(\"Некликнутые запросы в control для\", b, \"= \", df_control.n_nonclk_queries.sum()/df_control.n_queries.sum()*100, \n",
    "            \"% ; в exp = \", df_exp.n_nonclk_queries.sum()/df_exp.n_queries.sum()*100, \"%\")\n",
    "# на контроле некликнутых больше для браузеров кроме 17го"
   ]
  },
  {
   "cell_type": "code",
   "execution_count": null,
   "metadata": {},
   "outputs": [],
   "source": []
  }
 ],
 "metadata": {
  "kernelspec": {
   "display_name": "Python 3",
   "language": "python",
   "name": "python3"
  },
  "language_info": {
   "codemirror_mode": {
    "name": "ipython",
    "version": 3
   },
   "file_extension": ".py",
   "mimetype": "text/x-python",
   "name": "python",
   "nbconvert_exporter": "python",
   "pygments_lexer": "ipython3",
   "version": "3.7.3"
  }
 },
 "nbformat": 4,
 "nbformat_minor": 2
}
